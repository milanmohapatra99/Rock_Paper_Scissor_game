{
 "cells": [
  {
   "cell_type": "code",
   "execution_count": 14,
   "id": "95bc26e5",
   "metadata": {},
   "outputs": [
    {
     "name": "stdout",
     "output_type": "stream",
     "text": [
      "player 1 Turn: Rock(r) Paper(p) or Scissor(s)?\n",
      "player 2 Turn: Rock(r) Paper(p) or Scissor(s)?r\n",
      "plyr1 choose p\n",
      "plyr2 choose r\n",
      "oops!!!You Loose !\n"
     ]
    }
   ],
   "source": [
    "# Rock paper scissor game\n",
    "import random\n",
    "def game(plyr1,plyr2):\n",
    "    if plyr1 == plyr2:\n",
    "        return None\n",
    "    elif plyr1 == 'r':\n",
    "        if plyr2 == 's':\n",
    "            return False\n",
    "        elif plyr2 == 'p':\n",
    "            return True\n",
    "    elif plyr1 == 'p':\n",
    "        if plyr2 == 'r':\n",
    "            return False\n",
    "        elif plyr2 == 's':\n",
    "            return True\n",
    "    elif plyr1 == 's':\n",
    "        if plyr2 == 'p':\n",
    "            return False\n",
    "        elif plyr2 == 'r':\n",
    "            return True\n",
    "print(\"player 1 Turn: Rock(r) Paper(p) or Scissor(s)?\")\n",
    "randno = random.randint(1,3)\n",
    "if randno == 1:\n",
    "    plyr1 = 'r'\n",
    "elif randno == 2:\n",
    "    plyr1 ='p'\n",
    "elif randno == 3:\n",
    "    plyr1 ='s'\n",
    "plyr2 = input(\"player 2 Turn: Rock(r) Paper(p) or Scissor(s)?\")\n",
    "a = game(plyr1,plyr2)\n",
    "print(f\"plyr1 choose {plyr1}\")\n",
    "print(f\"plyr2 choose {plyr2}\")\n",
    "if a == None:\n",
    "    print(\"The game is a tie!\")\n",
    "elif a:\n",
    "    print(\"You Win\")\n",
    "    \n",
    "else:\n",
    "    print(\"oops!!!You Loose !\")"
   ]
  },
  {
   "cell_type": "code",
   "execution_count": null,
   "id": "8c568a92",
   "metadata": {},
   "outputs": [],
   "source": []
  },
  {
   "cell_type": "code",
   "execution_count": null,
   "id": "4e425834",
   "metadata": {},
   "outputs": [],
   "source": []
  }
 ],
 "metadata": {
  "kernelspec": {
   "display_name": "Python 3 (ipykernel)",
   "language": "python",
   "name": "python3"
  },
  "language_info": {
   "codemirror_mode": {
    "name": "ipython",
    "version": 3
   },
   "file_extension": ".py",
   "mimetype": "text/x-python",
   "name": "python",
   "nbconvert_exporter": "python",
   "pygments_lexer": "ipython3",
   "version": "3.9.7"
  }
 },
 "nbformat": 4,
 "nbformat_minor": 5
}
